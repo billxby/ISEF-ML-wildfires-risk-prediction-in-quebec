{
 "cells": [
  {
   "cell_type": "markdown",
   "metadata": {},
   "source": [
    "This file fetches all the API calls made from call-requests.py and takes back the result processed by NASA's API. The data is then converted into matrices and stored as the name of the chunk in a numpy file.\n",
    "\n",
    "Useful link (reference): https://github.com/nasa/AppEEARS-Data-Resources/blob/main/Python/tutorials/AppEEARS_API_Area.ipynb"
   ]
  },
  {
   "cell_type": "code",
   "execution_count": 1,
   "metadata": {},
   "outputs": [
    {
     "name": "stderr",
     "output_type": "stream",
     "text": [
      "C:\\Users\\xubil\\AppData\\Local\\Temp\\ipykernel_25904\\30379606.py:2: DeprecationWarning: 'cgi' is deprecated and slated for removal in Python 3.13\n",
      "  import getpass, pprint, time, os, cgi, json\n"
     ]
    }
   ],
   "source": [
    "import requests as r\n",
    "import getpass, pprint, time, os, cgi, json\n",
    "import geopandas as gpd\n",
    "import numpy as np\n",
    "import shapely\n",
    "from shapely import Polygon, to_geojson\n",
    "from dotenv import load_dotenv\n",
    "import matplotlib.pyplot as plt\n",
    "import numpy as np\n",
    "from osgeo import gdal\n",
    "import shutil\n",
    "\n",
    "api = 'https://appeears.earthdatacloud.nasa.gov/api/'  # Set the AρρEEARS API to a variable\n",
    "\n",
    "load_dotenv()\n",
    "\n",
    "params = {'limit': 1, 'pretty': True} # Limit API response to the most recent entry, return as pretty json\n",
    "relevantFiles = [\n",
    "    \"MOD13A1.061__500m_16_days_EVI_\",\n",
    "    \"MOD13A1.061__500m_16_days_NDVI_\",\n",
    "    \"MOD15A2H.061_Lai_500m_\",\n",
    "    \"DAYMET.004_prcp_\",\n",
    "    \"DAYMET.004_tmax_\",\n",
    "    \"DAYMET.004_tmin_\",\n",
    "]\n",
    "\n",
    "fileOrder = [\"prcp\", \"tmax\", \"tmin\", \"EVI\", \"NDVI\", \"Lai\"]\n",
    "originalRatio = [(7,6),(7,6),(7,6),(11,12),(11,12),(11,12)]"
   ]
  },
  {
   "cell_type": "code",
   "execution_count": 2,
   "metadata": {},
   "outputs": [],
   "source": [
    "destDir = r\"D:\\Users\\xubil\\Wildfire Data\\temp\" # Change this to any temporary destination\n",
    "saveDir = \"D:/Users/xubil/Wildfire Data/Chunks/\" # Change this to any directory to save the extracted chunks\n",
    "requestsDir = \"../Requests\" # The directory of the IDs of the requests we have made"
   ]
  },
  {
   "cell_type": "code",
   "execution_count": 3,
   "metadata": {},
   "outputs": [
    {
     "data": {
      "text/plain": [
       "array(['r1_0-500.npy', 'r1_8238-8738.npy'], dtype='<U32')"
      ]
     },
     "execution_count": 3,
     "metadata": {},
     "output_type": "execute_result"
    }
   ],
   "source": [
    "processedFiles = np.load(\"processed_files.npy\") # Do not re-process the same file\n",
    "processedFiles"
   ]
  },
  {
   "cell_type": "code",
   "execution_count": 151,
   "metadata": {},
   "outputs": [],
   "source": [
    "np.save(\"processed_files\", processedFiles)"
   ]
  },
  {
   "cell_type": "code",
   "execution_count": 131,
   "metadata": {},
   "outputs": [],
   "source": [
    "missingFinalRequest = []"
   ]
  },
  {
   "cell_type": "code",
   "execution_count": 6,
   "metadata": {},
   "outputs": [],
   "source": [
    "missing = np.load(\"../Requests/missing.npy\")"
   ]
  },
  {
   "cell_type": "code",
   "execution_count": null,
   "metadata": {},
   "outputs": [],
   "source": [
    "for requestFile in os.listdir(requestsDir):\n",
    "    if (requestFile == \"cur_idx.npy\" or requestFile == \"missing.npy\"):\n",
    "        continue\n",
    "    if (requestFile in processedFiles):\n",
    "        continue\n",
    "    dashIndex = requestFile.index('-')\n",
    "    endIndex = requestFile.index(\".npy\")\n",
    "    if (endIndex == -1):\n",
    "        continue\n",
    "    print(\"---------------------------------\")\n",
    "    print(requestFile)\n",
    "    print(\"---------------------------------\")\n",
    "    startChunk = int(requestFile[3:dashIndex])\n",
    "    nonIncluEndChunk = int(requestFile[dashIndex+1:endIndex])\n",
    "    print(startChunk, nonIncluEndChunk)\n",
    "    \n",
    "    ids = np.load(requestsDir+\"/\"+requestFile)\n",
    "    user = os.getenv(\"EARTHDATA_USERNAME\")\n",
    "    password = os.getenv(\"EARTHDATA_PASSWORD\")\n",
    "    token_response = r.post('{}login'.format(api), auth=(user, password)).json() # Insert API URL, call login service, provide credentials & return json\n",
    "    token = token_response['token']                      # Save login token to a variable\n",
    "    head = {'Authorization': 'Bearer {}'.format(token)}  # Create a header to store token information, needed to submit a request\n",
    "    \n",
    "    # # To be fixed files\n",
    "    # if (ids.shape[0] != nonIncluEndChunk-startChunk):\n",
    "    #     missingFinalRequest.append(requestFile)\n",
    "\n",
    "    for chunkIdx in range(0, ids.shape[0]):\n",
    "        bundle = r.get('{}bundle/{}'.format(api,ids[chunkIdx]), headers=head).json()  \n",
    "        print(bundle)\n",
    "        files = {}\n",
    "        for f in bundle['files']: files[f['file_id']] = f['file_name']   # Fill dictionary with file_id as keys and file_name as values\n",
    "\n",
    "        finalRelevantFiles = []\n",
    "\n",
    "        for deleteFile in os.listdir(destDir):\n",
    "            os.remove(destDir+\"/\"+deleteFile)\n",
    "\n",
    "        for f in files:\n",
    "            filename = files[f]\n",
    "            if (\".tif\" in filename):\n",
    "                if (any(substring in filename for substring in relevantFiles) == True):\n",
    "                    filename = files[f].split('/')[1]\n",
    "                    finalRelevantFiles.append(filename)\n",
    "                    dl = r.get('{}bundle/{}/{}'.format(api, ids[chunkIdx], f), headers=head, stream=True, allow_redirects = 'True')   \n",
    "                    filepath = os.path.join(destDir, filename)                                                       # Create output file path\n",
    "                    with open(filepath, 'wb') as f:                                                                  # Write file to dest dir\n",
    "                        for data in dl.iter_content(chunk_size=8192): f.write(data)\n",
    "        data = []\n",
    "        badFile = \"\"\n",
    "\n",
    "        for filename in finalRelevantFiles:\n",
    "            print(destDir + \"\\\\\" + filename)\n",
    "            dem = gdal.Open(destDir + \"\\\\\" + filename)\n",
    "            if (dem is None):\n",
    "                print(\"is none\")\n",
    "                data.append([])\n",
    "                badFile = \"_bad\"\n",
    "                break\n",
    "            else:\n",
    "                demBand = dem.GetRasterBand(1) \n",
    "                demData = demBand.ReadAsArray().astype('float') \n",
    "                demFill = demBand.GetNoDataValue()\n",
    "                demData[demData == demFill] = np.nan\n",
    "                # Arbitray 13 x 13 shape so no out of bounds \n",
    "                if (13-demData.shape[0] < 0 or 13-demData.shape[1] < 0):\n",
    "                    data.append([])\n",
    "                    print(\"Bad process\")\n",
    "                    badFile = \"_bad\"\n",
    "                    break \n",
    "                demData = np.pad(demData, [(0, 13-demData.shape[0]), (0, 13-demData.shape[1]),], mode='constant')\n",
    "                data.append(demData)\n",
    "\n",
    "        dem = \"a\" # stops reading the file to allow deletion \n",
    "        print(np.array(data).shape)\n",
    "\n",
    "        np.save(saveDir+str(chunkIdx+startChunk)+badFile, data)\n",
    "    \n",
    "    processedFiles = np.append(processedFiles, requestFile)\n",
    "    np.save(\"../processed_files\", processedFiles)"
   ]
  },
  {
   "cell_type": "markdown",
   "metadata": {},
   "source": [
    "### Some Testing Code"
   ]
  },
  {
   "cell_type": "code",
   "execution_count": 11,
   "metadata": {},
   "outputs": [
    {
     "data": {
      "text/plain": [
       "[]"
      ]
     },
     "execution_count": 11,
     "metadata": {},
     "output_type": "execute_result"
    }
   ],
   "source": [
    "data"
   ]
  },
  {
   "cell_type": "code",
   "execution_count": 23,
   "metadata": {},
   "outputs": [],
   "source": [
    "dem = 'a'"
   ]
  },
  {
   "cell_type": "code",
   "execution_count": 10,
   "metadata": {},
   "outputs": [
    {
     "data": {
      "text/plain": [
       "<matplotlib.colorbar.Colorbar at 0x14724c74ed0>"
      ]
     },
     "execution_count": 10,
     "metadata": {},
     "output_type": "execute_result"
    },
    {
     "data": {
      "image/png": "[encoded data removed]",
      "text/plain": [
       "<Figure size 640x480 with 2 Axes>"
      ]
     },
     "metadata": {},
     "output_type": "display_data"
    }
   ],
   "source": [
    "plt.imshow(demData)\n",
    "plt.colorbar()"
   ]
  },
  {
   "cell_type": "code",
   "execution_count": 8,
   "metadata": {},
   "outputs": [
    {
     "data": {
      "text/plain": [
       "(108, 6)"
      ]
     },
     "execution_count": 8,
     "metadata": {},
     "output_type": "execute_result"
    }
   ],
   "source": [
    "demData.shape"
   ]
  },
  {
   "cell_type": "code",
   "execution_count": 144,
   "metadata": {},
   "outputs": [
    {
     "ename": "ValueError",
     "evalue": "setting an array element with a sequence. The requested array has an inhomogeneous shape after 1 dimensions. The detected shape was (6,) + inhomogeneous part.",
     "output_type": "error",
     "traceback": [
      "\u001b[1;31m---------------------------------------------------------------------------\u001b[0m",
      "\u001b[1;31mValueError\u001b[0m                                Traceback (most recent call last)",
      "Cell \u001b[1;32mIn[144], line 1\u001b[0m\n\u001b[1;32m----> 1\u001b[0m \u001b[38;5;28mprint\u001b[39m(\u001b[43mnp\u001b[49m\u001b[38;5;241;43m.\u001b[39;49m\u001b[43marray\u001b[49m\u001b[43m(\u001b[49m\u001b[43mdata\u001b[49m\u001b[43m)\u001b[49m\u001b[38;5;241m.\u001b[39mshape)\n",
      "\u001b[1;31mValueError\u001b[0m: setting an array element with a sequence. The requested array has an inhomogeneous shape after 1 dimensions. The detected shape was (6,) + inhomogeneous part."
     ]
    }
   ],
   "source": [
    "print(np.array(data).shape)"
   ]
  },
  {
   "cell_type": "code",
   "execution_count": 5,
   "metadata": {},
   "outputs": [],
   "source": [
    "i = 1"
   ]
  },
  {
   "cell_type": "code",
   "execution_count": 16,
   "metadata": {},
   "outputs": [],
   "source": [
    "ids = np.load(\"../Requests/r1_8238-8738.npy\")"
   ]
  },
  {
   "cell_type": "code",
   "execution_count": 18,
   "metadata": {},
   "outputs": [
    {
     "data": {
      "text/plain": [
       "{'83cc37d8-a953-490c-ba70-17db3653e0f7': 'DAYMET.004_2007217_to_2007217/DAYMET.004_prcp_doy2007217_aid0001.tif',\n",
       " '5c4bc8ac-64b2-4395-8893-9d9eec6bf764': 'DAYMET.004_2007217_to_2007217/DAYMET.004_tmax_doy2007217_aid0001.tif',\n",
       " 'ea1b28bf-aae0-4797-b429-b2e86f485a3a': 'DAYMET.004_2007217_to_2007217/DAYMET.004_tmin_doy2007217_aid0001.tif',\n",
       " 'cd1e0399-59b7-4528-b38f-725260871f82': 'MOD13A1.061_2007202_to_2007217/MOD13A1.061__500m_16_days_EVI_doy2007209_aid0001.tif',\n",
       " '5cc7d63d-fe00-4610-8835-45bfa32b175d': 'MOD13A1.061_2007202_to_2007217/MOD13A1.061__500m_16_days_NDVI_doy2007209_aid0001.tif',\n",
       " '694f95e6-59ce-49ea-8295-b3c2bcc1f20d': 'MOD13A1.061_2007202_to_2007217/MOD13A1.061__500m_16_days_VI_Quality_doy2007209_aid0001.tif',\n",
       " 'f3524fef-f868-436e-8867-a224fd6a967c': 'MOD15A2H.061_2007210_to_2007217/MOD15A2H.061_Lai_500m_doy2007217_aid0001.tif',\n",
       " 'e37c806f-a801-476b-b297-231eb74aea23': 'MOD15A2H.061_2007210_to_2007217/MOD15A2H.061_FparLai_QC_doy2007217_aid0001.tif',\n",
       " '9d40a295-fb4f-48e1-9f68-5ed067142405': 'MOD15A2H.061_2007210_to_2007217/MOD15A2H.061_FparExtra_QC_doy2007217_aid0001.tif',\n",
       " '4ca909d3-75cd-47b4-822a-6f7b5c8e7b89': 'MOD13A1-061-500m-16-days-VI-Quality-lookup.csv',\n",
       " 'f136bf3e-8b14-4f01-a66d-f84f7819cf2d': 'MOD15A2H-061-FparLai-QC-lookup.csv',\n",
       " '8bd2de6d-5bcf-4d8c-9f6c-79a655373565': 'MOD15A2H-061-FparExtra-QC-lookup.csv',\n",
       " 'a95d0f05-1d56-4905-b5cd-4ca716fd3d7c': 'MOD13A1-061-500m-16-days-VI-Quality-Statistics-QA.csv',\n",
       " '8751d3c2-5675-4417-a582-f2d5628668e2': 'MOD15A2H-061-FparLai-QC-Statistics-QA.csv',\n",
       " 'f6782482-8df6-4a42-aafc-cfffb8cf20ff': 'MOD15A2H-061-FparExtra-QC-Statistics-QA.csv',\n",
       " '41526b5d-25a4-4173-aba6-f133ebd6e9ca': 'DAYMET-004-Statistics.csv',\n",
       " '9b60a6a2-0f12-4ba0-9449-cbaa1f805b8a': 'MOD13A1-061-Statistics.csv',\n",
       " 'e2050902-bcf5-488f-935e-c063aac0384a': 'MOD15A2H-061-Statistics.csv',\n",
       " '4f05c496-a14f-45b2-bead-59bccaaf7de9': 'Bounds-8238-granule-list.txt',\n",
       " '31b93ca2-dbe2-4f50-bad0-6c99c0f1ffb1': 'Bounds-8238-request.json',\n",
       " '0b78a7d0-31ae-40ac-b3a2-d4e17dc2d051': 'Bounds-8238-DAYMET-004-metadata.xml',\n",
       " 'a506bcb5-18cb-44af-b3dd-b1db213cfd7b': 'Bounds-8238-MOD13A1-061-metadata.xml',\n",
       " '39ef2b03-0f66-486c-a3bc-a1ed8aacb7b5': 'Bounds-8238-MOD15A2H-061-metadata.xml',\n",
       " 'ffa1435a-76b5-43fe-9e0d-f4b65cb38676': 'README.md'}"
      ]
     },
     "execution_count": 18,
     "metadata": {},
     "output_type": "execute_result"
    }
   ],
   "source": [
    "bundle = r.get('{}bundle/{}'.format(api,ids[0]), headers=head).json()  \n",
    "files = {}\n",
    "for f in bundle['files']: files[f['file_id']] = f['file_name']   # Fill dictionary with file_id as keys and file_name as values\n",
    "files   \n"
   ]
  },
  {
   "cell_type": "code",
   "execution_count": 19,
   "metadata": {},
   "outputs": [],
   "source": [
    "finalRelevantFiles = []\n",
    "\n",
    "for f in files:\n",
    "    filename = files[f]\n",
    "    if (\".tif\" in filename):\n",
    "        if (any(substring in filename for substring in relevantFiles) == True):\n",
    "            filename = files[f].split('/')[1]\n",
    "            finalRelevantFiles.append(filename)\n",
    "            dl = r.get('{}bundle/{}/{}'.format(api, ids[0], f), headers=head, stream=True, allow_redirects = 'True')   \n",
    "            filepath = os.path.join(destDir, filename)                                                       # Create output file path\n",
    "            with open(filepath, 'wb') as f:                                                                  # Write file to dest dir\n",
    "                for data in dl.iter_content(chunk_size=8192): f.write(data)"
   ]
  },
  {
   "cell_type": "code",
   "execution_count": 137,
   "metadata": {},
   "outputs": [],
   "source": []
  },
  {
   "cell_type": "code",
   "execution_count": 21,
   "metadata": {},
   "outputs": [
    {
     "name": "stdout",
     "output_type": "stream",
     "text": [
      "D:\\Users\\xubil\\Wildfire Data\\temp\\DAYMET.004_prcp_doy2007217_aid0001.tif\n",
      "(13, 13)\n",
      "D:\\Users\\xubil\\Wildfire Data\\temp\\DAYMET.004_tmax_doy2007217_aid0001.tif\n",
      "(13, 13)\n",
      "D:\\Users\\xubil\\Wildfire Data\\temp\\DAYMET.004_tmin_doy2007217_aid0001.tif\n",
      "(13, 13)\n",
      "D:\\Users\\xubil\\Wildfire Data\\temp\\MOD13A1.061__500m_16_days_EVI_doy2007209_aid0001.tif\n",
      "(13, 13)\n",
      "D:\\Users\\xubil\\Wildfire Data\\temp\\MOD13A1.061__500m_16_days_NDVI_doy2007209_aid0001.tif\n",
      "(13, 13)\n",
      "D:\\Users\\xubil\\Wildfire Data\\temp\\MOD15A2H.061_Lai_500m_doy2007217_aid0001.tif\n",
      "(13, 13)\n",
      "(6, 13, 13)\n"
     ]
    }
   ],
   "source": [
    "data = []\n",
    "\n",
    "for filename in finalRelevantFiles:\n",
    "    print(destDir + \"/\" + filename)\n",
    "    dem = gdal.Open(destDir + \"/\" + filename)\n",
    "    if (dem is None):\n",
    "        print(\"is none\")\n",
    "        data.append([])\n",
    "    else:\n",
    "        demBand = dem.GetRasterBand(1) \n",
    "        demData = demBand.ReadAsArray().astype('float') \n",
    "        demFill = demBand.GetNoDataValue()\n",
    "        demData[demData == demFill] = np.nan\n",
    "        demData = np.pad(demData, [(0, 13-demData.shape[0]), (0, 13-demData.shape[1]),], mode='constant')\n",
    "        # if (demData.shape[0] < 12 or demData.shape[]): # wrong shape\n",
    "        #     demData = np.pad(demData, [(0, 5), (0, 6),], mode='constant')\n",
    "        print(demData.shape)\n",
    "        data.append(demData)\n",
    "\n",
    "dem = \"a\" # stops reading the file to allow deletion \n",
    "print(np.array(data).shape)\n",
    "\n",
    "np.save(\"D:/Users/xubil/Wildfire Data/Chunks/TESTTT\", data)"
   ]
  },
  {
   "cell_type": "code",
   "execution_count": 22,
   "metadata": {},
   "outputs": [
    {
     "data": {
      "text/plain": [
       "<matplotlib.image.AxesImage at 0x14726eb0210>"
      ]
     },
     "execution_count": 22,
     "metadata": {},
     "output_type": "execute_result"
    },
    {
     "data": {
      "image/png": "[encoded data removed]",
      "text/plain": [
       "<Figure size 640x480 with 1 Axes>"
      ]
     },
     "metadata": {},
     "output_type": "display_data"
    }
   ],
   "source": [
    "plt.imshow(demData)"
   ]
  },
  {
   "cell_type": "code",
   "execution_count": 105,
   "metadata": {},
   "outputs": [],
   "source": [
    "test = np.load(r\"D:\\Users\\xubil\\Wildfire Data\\Chunks\\1.npy\")"
   ]
  },
  {
   "cell_type": "code",
   "execution_count": 2,
   "metadata": {},
   "outputs": [],
   "source": [
    "testing = np.load(r\"D:\\Users\\xubil\\Wildfire Data\\Chunks Missing 1\\Chunks\\6228.npy\")"
   ]
  },
  {
   "cell_type": "code",
   "execution_count": 9,
   "metadata": {},
   "outputs": [
    {
     "data": {
      "text/plain": [
       "array([[ 11.,  11.,  11.,   7.,   5.,   5.,   5.,   5.,   5.,   6.,   9.,\n",
       "          9.,   0.],\n",
       "       [ 10.,  10.,  10.,   6.,   6.,   6.,   5.,   6.,   6.,   9.,  10.,\n",
       "         10.,   0.],\n",
       "       [  8.,  11.,  11.,  10.,   6.,   5.,   5.,   5.,   9.,   9.,  10.,\n",
       "         10.,   0.],\n",
       "       [  9.,   6.,   7.,   7.,   7.,   5.,   5.,   7.,   8.,   8.,  10.,\n",
       "          9.,   0.],\n",
       "       [  7.,   5.,   5.,   5.,   5.,   5.,   5.,  11.,  11.,  11.,   9.,\n",
       "          9.,   0.],\n",
       "       [  5.,   5.,   5.,   5.,   5.,   4.,   4.,   8.,  10.,  11.,  11.,\n",
       "          9.,   0.],\n",
       "       [  5.,   5.,   5.,   5.,   5.,   5.,   5.,   5.,   7.,   7.,   7.,\n",
       "          8.,   0.],\n",
       "       [  5.,   5.,   5.,   5.,   5.,   8.,   8.,   8.,   6., 254., 254.,\n",
       "          5.,   0.],\n",
       "       [  6.,   6.,   5.,   5.,   5.,   7.,   8.,   8.,   8.,   8.,   8.,\n",
       "        254.,   0.],\n",
       "       [  6.,   6.,   5.,   7.,   8.,   8.,   9.,   9.,   9.,   7.,   9.,\n",
       "          9.,   0.],\n",
       "       [  6.,   6.,   6.,  10.,  10.,  10.,   9.,   9.,   9.,  11.,  11.,\n",
       "         11.,   0.],\n",
       "       [  7.,  10.,  10.,  10.,   8.,   8.,   8.,   8.,   8.,   7.,   9.,\n",
       "          9.,   0.],\n",
       "       [  0.,   0.,   0.,   0.,   0.,   0.,   0.,   0.,   0.,   0.,   0.,\n",
       "          0.,   0.]])"
      ]
     },
     "execution_count": 9,
     "metadata": {},
     "output_type": "execute_result"
    }
   ],
   "source": [
    "testing[5]"
   ]
  },
  {
   "cell_type": "code",
   "execution_count": 8,
   "metadata": {},
   "outputs": [],
   "source": [
    "missing = np.array([25467, 25942])"
   ]
  },
  {
   "cell_type": "code",
   "execution_count": 16,
   "metadata": {},
   "outputs": [
    {
     "data": {
      "text/plain": [
       "(107,)"
      ]
     },
     "execution_count": 16,
     "metadata": {},
     "output_type": "execute_result"
    }
   ],
   "source": [
    "missing.shape"
   ]
  },
  {
   "cell_type": "code",
   "execution_count": 9,
   "metadata": {},
   "outputs": [],
   "source": [
    "np.save(\"../Requests/missing.npy\", missing)"
   ]
  }
 ],
 "metadata": {
  "kernelspec": {
   "display_name": "Python 3",
   "language": "python",
   "name": "python3"
  },
  "language_info": {
   "codemirror_mode": {
    "name": "ipython",
    "version": 3
   },
   "file_extension": ".py",
   "mimetype": "text/x-python",
   "name": "python",
   "nbconvert_exporter": "python",
   "pygments_lexer": "ipython3",
   "version": "3.11.7"
  }
 },
 "nbformat": 4,
 "nbformat_minor": 2
}
