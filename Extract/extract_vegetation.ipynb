{
 "cells": [
  {
   "cell_type": "code",
   "execution_count": 28,
   "metadata": {},
   "outputs": [],
   "source": [
    "import requests as r\n",
    "import getpass, pprint, time, os, cgi, json\n",
    "import geopandas as gpd\n",
    "import numpy as np\n",
    "import shapely\n",
    "from shapely import Polygon, to_geojson"
   ]
  },
  {
   "cell_type": "code",
   "execution_count": 80,
   "metadata": {},
   "outputs": [],
   "source": [
    "coords = json.load(open('coords.json'))\n",
    "\n",
    "target_limit =  \"limits_testing_training_chunk\" \n",
    "xmin, xmax, ymin, ymax = (coords[target_limit][\"xmin\"]), (coords[target_limit][\"xmax\"]), (coords[target_limit][\"ymin\"]), (coords[target_limit][\"ymax\"])"
   ]
  },
  {
   "cell_type": "code",
   "execution_count": 2,
   "metadata": {},
   "outputs": [],
   "source": [
    "extract_bnds = np.load(\"../data-training/Foudre.npy\")\n",
    "extract_dates = np.load(\"../data-training/Foudre-dates.npy\")"
   ]
  },
  {
   "cell_type": "code",
   "execution_count": 3,
   "metadata": {},
   "outputs": [],
   "source": [
    "api = 'https://appeears.earthdatacloud.nasa.gov/api/'  # Set the AρρEEARS API to a variable"
   ]
  },
  {
   "cell_type": "code",
   "execution_count": 4,
   "metadata": {},
   "outputs": [],
   "source": [
    "user = getpass.getpass(prompt = 'Enter NASA Earthdata Login Username: ')      # Input NASA Earthdata Login Username\n",
    "password = getpass.getpass(prompt = 'Enter NASA Earthdata Login Password: ')  # Input NASA Earthdata Login Password"
   ]
  },
  {
   "cell_type": "code",
   "execution_count": 5,
   "metadata": {},
   "outputs": [
    {
     "data": {
      "text/plain": [
       "{'token_type': 'Bearer',\n",
       " 'token': '6lLVkaicIGXZ2n3jYz7Jfyq0-hSZ6i-rPKFVfR1aCIt_av8848WH9PIC72Fka8qNdxPSQpRhLlxA4o3-nhjCEA',\n",
       " 'expiration': '2023-12-16T16:18:13Z'}"
      ]
     },
     "execution_count": 5,
     "metadata": {},
     "output_type": "execute_result"
    }
   ],
   "source": [
    "token_response = r.post('{}login'.format(api), auth=(user, password)).json() # Insert API URL, call login service, provide credentials & return json\n",
    "# del user, password                                                           # Remove user and password information\n",
    "token_response       "
   ]
  },
  {
   "cell_type": "markdown",
   "metadata": {},
   "source": [
    "#### Exploring Products"
   ]
  },
  {
   "cell_type": "code",
   "execution_count": 6,
   "metadata": {},
   "outputs": [
    {
     "name": "stdout",
     "output_type": "stream",
     "text": [
      "AρρEEARS currently supports 120 products.\n"
     ]
    }
   ],
   "source": [
    "product_response = r.get('{}product'.format(api)).json()                         # request all products in the product service\n",
    "print('AρρEEARS currently supports {} products.'.format(len(product_response)))"
   ]
  },
  {
   "cell_type": "code",
   "execution_count": 7,
   "metadata": {},
   "outputs": [],
   "source": [
    "products = {p['ProductAndVersion']: p for p in product_response} "
   ]
  },
  {
   "cell_type": "code",
   "execution_count": 8,
   "metadata": {},
   "outputs": [
    {
     "data": {
      "text/plain": [
       "{'Product': 'DAYMET',\n",
       " 'Platform': 'DAYMET',\n",
       " 'Description': 'Daily Surface Weather Data for North America',\n",
       " 'RasterType': 'Tile',\n",
       " 'Resolution': '1000m',\n",
       " 'TemporalGranularity': 'Daily',\n",
       " 'Version': '004',\n",
       " 'Available': True,\n",
       " 'DocLink': 'https://doi.org/10.3334/ORNLDAAC/2129',\n",
       " 'Source': 'ORNL',\n",
       " 'TemporalExtentStart': '1950-01-01',\n",
       " 'TemporalExtentEnd': '2022-12-31',\n",
       " 'Deleted': False,\n",
       " 'DOI': '10.3334/ORNLDAAC/2129',\n",
       " 'Info': {},\n",
       " 'ProductAndVersion': 'DAYMET.004'}"
      ]
     },
     "execution_count": 8,
     "metadata": {},
     "output_type": "execute_result"
    }
   ],
   "source": [
    "products['DAYMET.004']"
   ]
  },
  {
   "cell_type": "markdown",
   "metadata": {},
   "source": [
    "#### Choosing the Product"
   ]
  },
  {
   "cell_type": "code",
   "execution_count": 9,
   "metadata": {},
   "outputs": [
    {
     "data": {
      "text/plain": [
       "['MOD13A1.061', 'MOD15A2H.061', 'DAYMET.004']"
      ]
     },
     "execution_count": 9,
     "metadata": {},
     "output_type": "execute_result"
    }
   ],
   "source": [
    "prods = ['MOD13A1.061', 'MOD15A2H.061', 'DAYMET.004']\n",
    "prods"
   ]
  },
  {
   "cell_type": "markdown",
   "metadata": {},
   "source": [
    "#### Exploring Layers"
   ]
  },
  {
   "cell_type": "code",
   "execution_count": 10,
   "metadata": {},
   "outputs": [
    {
     "data": {
      "text/plain": [
       "['_500m_16_days_EVI',\n",
       " '_500m_16_days_MIR_reflectance',\n",
       " '_500m_16_days_NDVI',\n",
       " '_500m_16_days_NIR_reflectance',\n",
       " '_500m_16_days_VI_Quality',\n",
       " '_500m_16_days_blue_reflectance',\n",
       " '_500m_16_days_composite_day_of_the_year',\n",
       " '_500m_16_days_pixel_reliability',\n",
       " '_500m_16_days_red_reflectance',\n",
       " '_500m_16_days_relative_azimuth_angle',\n",
       " '_500m_16_days_sun_zenith_angle',\n",
       " '_500m_16_days_view_zenith_angle']"
      ]
     },
     "execution_count": 10,
     "metadata": {},
     "output_type": "execute_result"
    }
   ],
   "source": [
    "mod13a1_response = r.get('{}product/{}'.format(api, prods[0])).json()  # Request layers for the 2nd product (index 1) in the list: MOD11A2.061\n",
    "list(mod13a1_response.keys())"
   ]
  },
  {
   "cell_type": "code",
   "execution_count": 11,
   "metadata": {},
   "outputs": [
    {
     "data": {
      "text/plain": [
       "({'AddOffset': 0.0,\n",
       "  'Available': True,\n",
       "  'DataType': 'float32',\n",
       "  'Description': '500m 16 days EVI',\n",
       "  'Dimensions': ['time', 'YDim', 'XDim'],\n",
       "  'FillValue': -3000,\n",
       "  'FillValueRaw': '-3000',\n",
       "  'Group': '',\n",
       "  'IsQA': False,\n",
       "  'Layer': '_500m_16_days_EVI',\n",
       "  'OrigDataType': 'int16',\n",
       "  'OrigValidMax': 10000,\n",
       "  'OrigValidMin': -2000,\n",
       "  'QualityLayers': \"['_500m_16_days_VI_Quality']\",\n",
       "  'QualityProductAndVersion': 'MOD13A1.061',\n",
       "  'ScaleFactor': 0.0001,\n",
       "  'Units': '',\n",
       "  'ValidMax': 1.0,\n",
       "  'ValidMin': -0.200000003,\n",
       "  'XSize': 2400,\n",
       "  'YSize': 2400},\n",
       " {'AddOffset': 0.0,\n",
       "  'Available': True,\n",
       "  'DataType': 'float32',\n",
       "  'Description': '500m 16 days NDVI',\n",
       "  'Dimensions': ['time', 'YDim', 'XDim'],\n",
       "  'FillValue': -3000,\n",
       "  'FillValueRaw': '-3000',\n",
       "  'Group': '',\n",
       "  'IsQA': False,\n",
       "  'Layer': '_500m_16_days_NDVI',\n",
       "  'OrigDataType': 'int16',\n",
       "  'OrigValidMax': 10000,\n",
       "  'OrigValidMin': -2000,\n",
       "  'QualityLayers': \"['_500m_16_days_VI_Quality']\",\n",
       "  'QualityProductAndVersion': 'MOD13A1.061',\n",
       "  'ScaleFactor': 0.0001,\n",
       "  'Units': '',\n",
       "  'ValidMax': 1.0,\n",
       "  'ValidMin': -0.200000003,\n",
       "  'XSize': 2400,\n",
       "  'YSize': 2400})"
      ]
     },
     "execution_count": 11,
     "metadata": {},
     "output_type": "execute_result"
    }
   ],
   "source": [
    "mod13a1_response['_500m_16_days_EVI'], mod13a1_response['_500m_16_days_NDVI']"
   ]
  },
  {
   "cell_type": "markdown",
   "metadata": {},
   "source": [
    "#### Choosing the Layers"
   ]
  },
  {
   "cell_type": "code",
   "execution_count": 12,
   "metadata": {},
   "outputs": [],
   "source": [
    "layers = [(prods[0], '_500m_16_days_EVI'), (prods[0], '_500m_16_days_NDVI'), (prods[1], \"Lai_500m\"), (prods[2], 'prcp'), (prods[2], 'tmax'), (prods[2], 'tmin')]"
   ]
  },
  {
   "cell_type": "code",
   "execution_count": 13,
   "metadata": {},
   "outputs": [
    {
     "data": {
      "text/plain": [
       "[{'layer': '_500m_16_days_EVI', 'product': 'MOD13A1.061'},\n",
       " {'layer': '_500m_16_days_NDVI', 'product': 'MOD13A1.061'},\n",
       " {'layer': 'Lai_500m', 'product': 'MOD15A2H.061'},\n",
       " {'layer': 'prcp', 'product': 'DAYMET.004'},\n",
       " {'layer': 'tmax', 'product': 'DAYMET.004'},\n",
       " {'layer': 'tmin', 'product': 'DAYMET.004'}]"
      ]
     },
     "execution_count": 13,
     "metadata": {},
     "output_type": "execute_result"
    }
   ],
   "source": [
    "prodLayer = []\n",
    "for l in layers:\n",
    "    prodLayer.append({\n",
    "            \"layer\": l[1],\n",
    "            \"product\": l[0]\n",
    "          })\n",
    "prodLayer"
   ]
  },
  {
   "cell_type": "markdown",
   "metadata": {},
   "source": [
    "#### Setting the Polygon"
   ]
  },
  {
   "cell_type": "code",
   "execution_count": 81,
   "metadata": {},
   "outputs": [],
   "source": [
    "poly = Polygon([[xmin, ymin], [xmin, ymax], [xmax, ymax], [xmax, ymin]])\n",
    "features = [{'type': 'Feature', 'properties': {}, 'geometry': shapely.geometry.mapping(poly)}]\n",
    "\n",
    "nps_gc = {\"type\":\"FeatureCollection\", \"features\":features}"
   ]
  },
  {
   "cell_type": "markdown",
   "metadata": {},
   "source": [
    "### The Request"
   ]
  },
  {
   "cell_type": "code",
   "execution_count": 14,
   "metadata": {},
   "outputs": [],
   "source": [
    "token = token_response['token']                      # Save login token to a variable\n",
    "head = {'Authorization': 'Bearer {}'.format(token)}  # Create a header to store token information, needed to submit a request"
   ]
  },
  {
   "cell_type": "code",
   "execution_count": 82,
   "metadata": {},
   "outputs": [],
   "source": [
    "\n",
    "task_type = ['point','area']        # Type of task, area or point\n",
    "proj = 'geographic'  # Set output projection \n",
    "outFormat = ['geotiff', 'netcdf4']  # Set output file format type\n",
    "startDate = '07-01-2017'            # Start of the date range for which to extract data: MM-DD-YYYY\n",
    "endDate = '07-01-2017'              # End of the date range for which to extract data: MM-DD-YYYY\n",
    "recurring = False                   # Specify True for a recurring date range\n",
    "#yearRange = [2000,2016]            # if recurring = True, set yearRange, change start/end date to MM-DD"
   ]
  },
  {
   "cell_type": "code",
   "execution_count": 84,
   "metadata": {},
   "outputs": [],
   "source": [
    "task = {\n",
    "    'task_type': task_type[1],\n",
    "    'task_name': \"Test\",\n",
    "    'params': {\n",
    "         'dates': [\n",
    "         {\n",
    "             'startDate': startDate,\n",
    "             'endDate': endDate\n",
    "         }],\n",
    "         'layers': prodLayer,\n",
    "         'output': {\n",
    "                 'format': {\n",
    "                         'type': outFormat[0]}, \n",
    "                         'projection': proj},\n",
    "         'geo': nps_gc,\n",
    "    }\n",
    "}"
   ]
  },
  {
   "cell_type": "code",
   "execution_count": 85,
   "metadata": {},
   "outputs": [
    {
     "data": {
      "text/plain": [
       "{'task_id': '3c0ea761-d1cc-4113-a92a-089ecf58abbd', 'status': 'pending'}"
      ]
     },
     "execution_count": 85,
     "metadata": {},
     "output_type": "execute_result"
    }
   ],
   "source": [
    "task_response = r.post('{}task'.format(api), json=task, headers=head).json()  # Post json to the API task service, return response as json\n",
    "task_response      "
   ]
  },
  {
   "cell_type": "code",
   "execution_count": 86,
   "metadata": {},
   "outputs": [],
   "source": [
    "params = {'limit': 2, 'pretty': True} # Limit API response to 2 most recent entries, return as pretty json"
   ]
  },
  {
   "cell_type": "code",
   "execution_count": 87,
   "metadata": {},
   "outputs": [
    {
     "data": {
      "text/plain": [
       "[{'tier': 2,\n",
       "  'error': None,\n",
       "  'params': {'dates': [{'endDate': '07-01-2017', 'startDate': '07-01-2017'}],\n",
       "   'layers': [{'layer': '_500m_16_days_EVI', 'product': 'MOD13A1.061'},\n",
       "    {'layer': '_500m_16_days_NDVI', 'product': 'MOD13A1.061'},\n",
       "    {'layer': 'Lai_500m', 'product': 'MOD15A2H.061'},\n",
       "    {'layer': 'prcp', 'product': 'DAYMET.004'},\n",
       "    {'layer': 'tmax', 'product': 'DAYMET.004'},\n",
       "    {'layer': 'tmin', 'product': 'DAYMET.004'}],\n",
       "   'output': {'format': {'type': 'geotiff'}, 'projection': 'geographic'}},\n",
       "  'status': 'processing',\n",
       "  'created': '2023-12-14T21:17:42.363776',\n",
       "  'task_id': '3c0ea761-d1cc-4113-a92a-089ecf58abbd',\n",
       "  'updated': '2023-12-14T21:17:51.275752',\n",
       "  'user_id': 'xubill0707@gmail.com',\n",
       "  'estimate': {'request_size': 5566.278091108419, 'request_memory': 1},\n",
       "  'retry_at': None,\n",
       "  'has_swath': False,\n",
       "  'task_name': 'Test',\n",
       "  'task_type': 'area',\n",
       "  'api_version': 'v1',\n",
       "  'svc_version': '3.40.2',\n",
       "  'web_version': None,\n",
       "  'has_nsidc_daac': False,\n",
       "  'expires_on': '2024-01-13T21:17:51.275752'},\n",
       " {'tier': 2,\n",
       "  'error': None,\n",
       "  'params': {'dates': [{'endDate': '07-31-2017', 'startDate': '07-01-2017'}],\n",
       "   'layers': [{'layer': '_500m_16_days_EVI', 'product': 'MOD13A1.061'},\n",
       "    {'layer': '_500m_16_days_NDVI', 'product': 'MOD13A1.061'},\n",
       "    {'layer': 'Lai_500m', 'product': 'MOD15A2H.061'},\n",
       "    {'layer': 'prcp', 'product': 'DAYMET.004'},\n",
       "    {'layer': 'tmax', 'product': 'DAYMET.004'},\n",
       "    {'layer': 'tmin', 'product': 'DAYMET.004'}],\n",
       "   'output': {'format': {'type': 'geotiff'}, 'projection': 'geographic'}},\n",
       "  'status': 'done',\n",
       "  'crashed': False,\n",
       "  'created': '2023-12-14T17:22:13.128782',\n",
       "  'task_id': '67897b75-2a1e-471b-a7a2-22da2a7173d0',\n",
       "  'updated': '2023-12-14T17:25:16.433832',\n",
       "  'user_id': 'xubill0707@gmail.com',\n",
       "  'attempts': 1,\n",
       "  'estimate': {'request_size': 1676361.6483394676, 'request_memory': 1},\n",
       "  'retry_at': None,\n",
       "  'completed': '2023-12-14T17:25:16.424029',\n",
       "  'has_swath': False,\n",
       "  'task_name': 'Test',\n",
       "  'task_type': 'area',\n",
       "  'api_version': 'v1',\n",
       "  'svc_version': '3.40.2',\n",
       "  'web_version': None,\n",
       "  'has_nsidc_daac': False,\n",
       "  'expires_on': '2024-01-13T17:25:16.433832'}]"
      ]
     },
     "execution_count": 87,
     "metadata": {},
     "output_type": "execute_result"
    }
   ],
   "source": [
    "tasks_response = r.get('{}task'.format(api), params=params, headers=head).json() # Query task service, setting params and header \n",
    "tasks_response      "
   ]
  },
  {
   "cell_type": "code",
   "execution_count": 88,
   "metadata": {},
   "outputs": [
    {
     "data": {
      "text/plain": [
       "{'task_id': '3c0ea761-d1cc-4113-a92a-089ecf58abbd',\n",
       " 'updated': '2023-12-14T21:17:52.113308',\n",
       " 'user_id': 'xubill0707@gmail.com',\n",
       " 'progress': {'details': [{'desc': 'Initializing',\n",
       "    'step': 1,\n",
       "    'pct_complete': 0},\n",
       "   {'desc': 'Downloading', 'step': 2, 'pct_complete': 0},\n",
       "   {'desc': 'Subsetting', 'step': 3, 'pct_complete': 0},\n",
       "   {'desc': 'Generating Files', 'step': 4, 'pct_complete': 0},\n",
       "   {'desc': 'Extracting Stats', 'step': 5, 'pct_complete': 0},\n",
       "   {'desc': 'Finalizing', 'step': 6, 'pct_complete': 0}],\n",
       "  'summary': 0,\n",
       "  'user_consider_limit': True},\n",
       " 'has_swath': False,\n",
       " 'status_id': '9c6a51f6-d494-4b25-ab50-43e32cd2bd8e',\n",
       " 'status_type': 'task'}"
      ]
     },
     "execution_count": 88,
     "metadata": {},
     "output_type": "execute_result"
    }
   ],
   "source": [
    "task_id = task_response['task_id']                                               # Set task id from request submission\n",
    "status_response = r.get('{}status/{}'.format(api, task_id), headers=head).json() # Call status service with specific task ID & user credentials\n",
    "status_response      "
   ]
  },
  {
   "cell_type": "code",
   "execution_count": 89,
   "metadata": {},
   "outputs": [
    {
     "name": "stdout",
     "output_type": "stream",
     "text": [
      "processing\n",
      "processing\n",
      "processing\n",
      "done\n"
     ]
    }
   ],
   "source": [
    "# Ping API until request is complete, then continue to Section 4\n",
    "starttime = time.time()\n",
    "while r.get('{}task/{}'.format(api, task_id), headers=head).json()['status'] != 'done':\n",
    "    print(r.get('{}task/{}'.format(api, task_id), headers=head).json()['status'])\n",
    "    time.sleep(20.0 - ((time.time() - starttime) % 20.0))\n",
    "print(r.get('{}task/{}'.format(api, task_id), headers=head).json()['status']) "
   ]
  },
  {
   "cell_type": "code",
   "execution_count": 90,
   "metadata": {},
   "outputs": [
    {
     "data": {
      "text/plain": [
       "{'files': [{'sha256': 'f652e5dde34091f1c6893e19ee88b20617432ee629ff91bab337f725f69fe7a7',\n",
       "   'file_id': '1de45272-94db-4568-b8b6-4f8c43da5066',\n",
       "   'file_name': 'DAYMET.004_2017182_to_2017182/DAYMET.004_prcp_doy2017182_aid0001.tif',\n",
       "   'file_size': 2730,\n",
       "   'file_type': 'tif',\n",
       "   's3_url': 's3://appeears-output/3c0ea761-d1cc-4113-a92a-089ecf58abbd/DAYMET.004_2017182_to_2017182/DAYMET.004_prcp_doy2017182_aid0001.tif'},\n",
       "  {'sha256': 'c163601a44cc61cf68e95db97c65feb74fd2450331e0b92c56d8db146181434f',\n",
       "   'file_id': '4a883c62-9173-49ab-b654-ce4d08949279',\n",
       "   'file_name': 'DAYMET.004_2017182_to_2017182/DAYMET.004_tmax_doy2017182_aid0001.tif',\n",
       "   'file_size': 2741,\n",
       "   'file_type': 'tif',\n",
       "   's3_url': 's3://appeears-output/3c0ea761-d1cc-4113-a92a-089ecf58abbd/DAYMET.004_2017182_to_2017182/DAYMET.004_tmax_doy2017182_aid0001.tif'},\n",
       "  {'sha256': 'afc547983de94d53a8b0991a58343cee5f1ee464899c50571b6421dfb868ca88',\n",
       "   'file_id': 'c3e9fa0d-d0ea-4f8e-869c-489b0ee2d52c',\n",
       "   'file_name': 'DAYMET.004_2017182_to_2017182/DAYMET.004_tmin_doy2017182_aid0001.tif',\n",
       "   'file_size': 2754,\n",
       "   'file_type': 'tif',\n",
       "   's3_url': 's3://appeears-output/3c0ea761-d1cc-4113-a92a-089ecf58abbd/DAYMET.004_2017182_to_2017182/DAYMET.004_tmin_doy2017182_aid0001.tif'},\n",
       "  {'sha256': 'b58b7fa8774ad078152933bc5f3e82fe5f7ab916f4aa65783b481a75b3710cea',\n",
       "   'file_id': 'f50b8a6c-2883-41e5-894e-365609325d88',\n",
       "   'file_name': 'MOD13A1.061_2017167_to_2017182/MOD13A1.061__500m_16_days_EVI_doy2017177_aid0001.tif',\n",
       "   'file_size': 2421,\n",
       "   'file_type': 'tif',\n",
       "   's3_url': 's3://appeears-output/3c0ea761-d1cc-4113-a92a-089ecf58abbd/MOD13A1.061_2017167_to_2017182/MOD13A1.061__500m_16_days_EVI_doy2017177_aid0001.tif'},\n",
       "  {'sha256': '9d5361f9f1b940de49bca0a27a5355417d0336672a4157bde2494e0e716a54f7',\n",
       "   'file_id': '1f5c07aa-f876-4ee7-978b-2e0e928f45f8',\n",
       "   'file_name': 'MOD13A1.061_2017167_to_2017182/MOD13A1.061__500m_16_days_NDVI_doy2017177_aid0001.tif',\n",
       "   'file_size': 2422,\n",
       "   'file_type': 'tif',\n",
       "   's3_url': 's3://appeears-output/3c0ea761-d1cc-4113-a92a-089ecf58abbd/MOD13A1.061_2017167_to_2017182/MOD13A1.061__500m_16_days_NDVI_doy2017177_aid0001.tif'},\n",
       "  {'sha256': 'bde937630995bdc126447df22654a2746b419a94de657b8e756ff3c1afaa162b',\n",
       "   'file_id': '38cdd7c9-f915-4761-bdae-427f4054db4c',\n",
       "   'file_name': 'MOD13A1.061_2017167_to_2017182/MOD13A1.061__500m_16_days_VI_Quality_doy2017177_aid0001.tif',\n",
       "   'file_size': 2126,\n",
       "   'file_type': 'tif',\n",
       "   's3_url': 's3://appeears-output/3c0ea761-d1cc-4113-a92a-089ecf58abbd/MOD13A1.061_2017167_to_2017182/MOD13A1.061__500m_16_days_VI_Quality_doy2017177_aid0001.tif'},\n",
       "  {'sha256': '1ceffad963a1030fb2f91bdfbe973aad8549bff3982f9b87dae08be2894f2ca1',\n",
       "   'file_id': '5ff1ae93-4476-447d-b247-6da776ea7865',\n",
       "   'file_name': 'MOD15A2H.061_2017175_to_2017182/MOD15A2H.061_Lai_500m_doy2017177_aid0001.tif',\n",
       "   'file_size': 1898,\n",
       "   'file_type': 'tif',\n",
       "   's3_url': 's3://appeears-output/3c0ea761-d1cc-4113-a92a-089ecf58abbd/MOD15A2H.061_2017175_to_2017182/MOD15A2H.061_Lai_500m_doy2017177_aid0001.tif'},\n",
       "  {'sha256': '6f8a24482ca96cd62f5eea54b3754f98b63e136b7ebe454f60033f317f4b274d',\n",
       "   'file_id': 'f76e2935-4681-40be-bcc7-27c4d56dc753',\n",
       "   'file_name': 'MOD15A2H.061_2017175_to_2017182/MOD15A2H.061_FparLai_QC_doy2017177_aid0001.tif',\n",
       "   'file_size': 1656,\n",
       "   'file_type': 'tif',\n",
       "   's3_url': 's3://appeears-output/3c0ea761-d1cc-4113-a92a-089ecf58abbd/MOD15A2H.061_2017175_to_2017182/MOD15A2H.061_FparLai_QC_doy2017177_aid0001.tif'},\n",
       "  {'sha256': 'a95c2936366df37536d7ee1dff0942c0f2ee888c837e77243aa2534b3535e414',\n",
       "   'file_id': '55365098-f505-466a-aabe-166385514482',\n",
       "   'file_name': 'MOD15A2H.061_2017175_to_2017182/MOD15A2H.061_FparExtra_QC_doy2017177_aid0001.tif',\n",
       "   'file_size': 1725,\n",
       "   'file_type': 'tif',\n",
       "   's3_url': 's3://appeears-output/3c0ea761-d1cc-4113-a92a-089ecf58abbd/MOD15A2H.061_2017175_to_2017182/MOD15A2H.061_FparExtra_QC_doy2017177_aid0001.tif'},\n",
       "  {'sha256': '33dc5023dc35f058f808b45bb63154ccad690f3ebae4a977a811cfeb7da1368d',\n",
       "   'file_id': '48f70cd7-5713-4912-953f-22125ca02a63',\n",
       "   'file_name': 'MOD13A1-061-500m-16-days-VI-Quality-lookup.csv',\n",
       "   'file_size': 567,\n",
       "   'file_type': 'csv',\n",
       "   's3_url': 's3://appeears-output/3c0ea761-d1cc-4113-a92a-089ecf58abbd/MOD13A1-061-500m-16-days-VI-Quality-lookup.csv'},\n",
       "  {'sha256': '68502845fe66c2809b90e18ba11888d7e27fbcb4ce968cb8474f745b601651b4',\n",
       "   'file_id': 'ead58802-f866-445f-bb8b-3c669a9dd5fb',\n",
       "   'file_name': 'MOD15A2H-061-FparLai-QC-lookup.csv',\n",
       "   'file_size': 761,\n",
       "   'file_type': 'csv',\n",
       "   's3_url': 's3://appeears-output/3c0ea761-d1cc-4113-a92a-089ecf58abbd/MOD15A2H-061-FparLai-QC-lookup.csv'},\n",
       "  {'sha256': '4ce709ae6891bf3b9041212c2b002e421c55e589577df2f5411fbda8ea796e5f',\n",
       "   'file_id': '4890dae5-c7e7-4225-8673-e70c76acae23',\n",
       "   'file_name': 'MOD15A2H-061-FparExtra-QC-lookup.csv',\n",
       "   'file_size': 2301,\n",
       "   'file_type': 'csv',\n",
       "   's3_url': 's3://appeears-output/3c0ea761-d1cc-4113-a92a-089ecf58abbd/MOD15A2H-061-FparExtra-QC-lookup.csv'},\n",
       "  {'sha256': '04159e6730dfd388a977c837be4d880746a98f8b298eb39ebef1d2d9af003e35',\n",
       "   'file_id': '06f537d0-dbb5-417e-b188-749bf5487232',\n",
       "   'file_name': 'MOD13A1-061-500m-16-days-VI-Quality-Statistics-QA.csv',\n",
       "   'file_size': 104,\n",
       "   'file_type': 'csv',\n",
       "   's3_url': 's3://appeears-output/3c0ea761-d1cc-4113-a92a-089ecf58abbd/MOD13A1-061-500m-16-days-VI-Quality-Statistics-QA.csv'},\n",
       "  {'sha256': '9335c463c7fb87f13edbdc1093884d9e68b23d0312b03cbd7b1462fa7fbcf5ca',\n",
       "   'file_id': '610ff7da-b4f4-41e8-8a12-380d2938ee25',\n",
       "   'file_name': 'MOD15A2H-061-FparLai-QC-Statistics-QA.csv',\n",
       "   'file_size': 77,\n",
       "   'file_type': 'csv',\n",
       "   's3_url': 's3://appeears-output/3c0ea761-d1cc-4113-a92a-089ecf58abbd/MOD15A2H-061-FparLai-QC-Statistics-QA.csv'},\n",
       "  {'sha256': '772fba75f1648af83391b599a09f090673d94259967d28ee2752cdad10a1fe5a',\n",
       "   'file_id': '65a31f7a-84b1-41e9-b2ac-4c6fa7442783',\n",
       "   'file_name': 'MOD15A2H-061-FparExtra-QC-Statistics-QA.csv',\n",
       "   'file_size': 123,\n",
       "   'file_type': 'csv',\n",
       "   's3_url': 's3://appeears-output/3c0ea761-d1cc-4113-a92a-089ecf58abbd/MOD15A2H-061-FparExtra-QC-Statistics-QA.csv'},\n",
       "  {'sha256': '054af7042f47cda99de90e83a1da9e124e6edd2644eb454c7a2be61313bee795',\n",
       "   'file_id': '05fd7f2b-7a6b-4b31-94c2-e79073ebd54c',\n",
       "   'file_name': 'DAYMET-004-Statistics.csv',\n",
       "   'file_size': 698,\n",
       "   'file_type': 'csv',\n",
       "   's3_url': 's3://appeears-output/3c0ea761-d1cc-4113-a92a-089ecf58abbd/DAYMET-004-Statistics.csv'},\n",
       "  {'sha256': '4ae6a96582d5d7370c5762f9644697b76c50107008cf552ecb5012f26a8301cf',\n",
       "   'file_id': '25cf4250-4ab9-42bf-8316-0d3db847c7a8',\n",
       "   'file_name': 'MOD13A1-061-Statistics.csv',\n",
       "   'file_size': 533,\n",
       "   'file_type': 'csv',\n",
       "   's3_url': 's3://appeears-output/3c0ea761-d1cc-4113-a92a-089ecf58abbd/MOD13A1-061-Statistics.csv'},\n",
       "  {'sha256': '408487eb68a06ec9e63fe85458350e2bdd42696f67ed1809add78eec559505df',\n",
       "   'file_id': 'ff7d0e71-5977-4ead-8ab3-f71ecaa8e379',\n",
       "   'file_name': 'MOD15A2H-061-Statistics.csv',\n",
       "   'file_size': 299,\n",
       "   'file_type': 'csv',\n",
       "   's3_url': 's3://appeears-output/3c0ea761-d1cc-4113-a92a-089ecf58abbd/MOD15A2H-061-Statistics.csv'},\n",
       "  {'sha256': 'ad926b088e2e2943cbf14d3591ea8658f08d15bb19f2e78d8e69cb5fc431ec7a',\n",
       "   'file_id': '0dfd1862-107e-4c8a-b4e7-24ec70f5acb2',\n",
       "   'file_name': 'Test-granule-list.txt',\n",
       "   'file_size': 2379,\n",
       "   'file_type': 'txt',\n",
       "   's3_url': 's3://appeears-output/3c0ea761-d1cc-4113-a92a-089ecf58abbd/Test-granule-list.txt'},\n",
       "  {'sha256': '2c4d76c68a68a67ddece0ddb41803cd942558122a6e0c618c9ddb853b62c7764',\n",
       "   'file_id': '7f4acaec-e2c7-4c4a-8d8b-baaf305d72d1',\n",
       "   'file_name': 'Test-request.json',\n",
       "   'file_size': 1205,\n",
       "   'file_type': 'json',\n",
       "   's3_url': 's3://appeears-output/3c0ea761-d1cc-4113-a92a-089ecf58abbd/Test-request.json'},\n",
       "  {'sha256': '1682c9fd92c310b9c5438e2f4d46b57baad4a8676a02ea7b63583f4a7fef636b',\n",
       "   'file_id': '45e3a501-59c4-4326-b052-b58d5702df02',\n",
       "   'file_name': 'Test-DAYMET-004-metadata.xml',\n",
       "   'file_size': 21677,\n",
       "   'file_type': 'xml',\n",
       "   's3_url': 's3://appeears-output/3c0ea761-d1cc-4113-a92a-089ecf58abbd/Test-DAYMET-004-metadata.xml'},\n",
       "  {'sha256': '00e7c5285fb6ce610171eb3bdd255f3caef9602804a789dd1f8db806b2d2cce5',\n",
       "   'file_id': '4e372310-d885-439d-b79f-7b93e2effd71',\n",
       "   'file_name': 'Test-MOD13A1-061-metadata.xml',\n",
       "   'file_size': 22040,\n",
       "   'file_type': 'xml',\n",
       "   's3_url': 's3://appeears-output/3c0ea761-d1cc-4113-a92a-089ecf58abbd/Test-MOD13A1-061-metadata.xml'},\n",
       "  {'sha256': '1ad4fdbe34c96be264e9544a01c1dd32c866f185924b94e86342db926f4d4ded',\n",
       "   'file_id': 'c5793e74-10ef-41d7-b3fb-c42f3b442be9',\n",
       "   'file_name': 'Test-MOD15A2H-061-metadata.xml',\n",
       "   'file_size': 22121,\n",
       "   'file_type': 'xml',\n",
       "   's3_url': 's3://appeears-output/3c0ea761-d1cc-4113-a92a-089ecf58abbd/Test-MOD15A2H-061-metadata.xml'},\n",
       "  {'sha256': 'b0eb27db31acb21f2cd0d7a19820de184c911be2d1095d5f62beab0a6b5e86c5',\n",
       "   'file_id': '24ce9881-bf67-48e9-9049-fd6be4c234af',\n",
       "   'file_name': 'README.md',\n",
       "   'file_size': 29219,\n",
       "   'file_type': 'txt',\n",
       "   's3_url': 's3://appeears-output/3c0ea761-d1cc-4113-a92a-089ecf58abbd/README.md'}],\n",
       " 'created': '2023-12-14T21:17:52.024409',\n",
       " 'task_id': '3c0ea761-d1cc-4113-a92a-089ecf58abbd',\n",
       " 'updated': '2023-12-14T21:18:46.769411',\n",
       " 'bundle_type': 'area'}"
      ]
     },
     "execution_count": 90,
     "metadata": {},
     "output_type": "execute_result"
    }
   ],
   "source": [
    "bundle = r.get('{}bundle/{}'.format(api,task_id), headers=head).json()  # Call API and return bundle contents for the task_id as json\n",
    "bundle"
   ]
  },
  {
   "cell_type": "code",
   "execution_count": 91,
   "metadata": {},
   "outputs": [
    {
     "data": {
      "text/plain": [
       "{'1de45272-94db-4568-b8b6-4f8c43da5066': 'DAYMET.004_2017182_to_2017182/DAYMET.004_prcp_doy2017182_aid0001.tif',\n",
       " '4a883c62-9173-49ab-b654-ce4d08949279': 'DAYMET.004_2017182_to_2017182/DAYMET.004_tmax_doy2017182_aid0001.tif',\n",
       " 'c3e9fa0d-d0ea-4f8e-869c-489b0ee2d52c': 'DAYMET.004_2017182_to_2017182/DAYMET.004_tmin_doy2017182_aid0001.tif',\n",
       " 'f50b8a6c-2883-41e5-894e-365609325d88': 'MOD13A1.061_2017167_to_2017182/MOD13A1.061__500m_16_days_EVI_doy2017177_aid0001.tif',\n",
       " '1f5c07aa-f876-4ee7-978b-2e0e928f45f8': 'MOD13A1.061_2017167_to_2017182/MOD13A1.061__500m_16_days_NDVI_doy2017177_aid0001.tif',\n",
       " '38cdd7c9-f915-4761-bdae-427f4054db4c': 'MOD13A1.061_2017167_to_2017182/MOD13A1.061__500m_16_days_VI_Quality_doy2017177_aid0001.tif',\n",
       " '5ff1ae93-4476-447d-b247-6da776ea7865': 'MOD15A2H.061_2017175_to_2017182/MOD15A2H.061_Lai_500m_doy2017177_aid0001.tif',\n",
       " 'f76e2935-4681-40be-bcc7-27c4d56dc753': 'MOD15A2H.061_2017175_to_2017182/MOD15A2H.061_FparLai_QC_doy2017177_aid0001.tif',\n",
       " '55365098-f505-466a-aabe-166385514482': 'MOD15A2H.061_2017175_to_2017182/MOD15A2H.061_FparExtra_QC_doy2017177_aid0001.tif',\n",
       " '48f70cd7-5713-4912-953f-22125ca02a63': 'MOD13A1-061-500m-16-days-VI-Quality-lookup.csv',\n",
       " 'ead58802-f866-445f-bb8b-3c669a9dd5fb': 'MOD15A2H-061-FparLai-QC-lookup.csv',\n",
       " '4890dae5-c7e7-4225-8673-e70c76acae23': 'MOD15A2H-061-FparExtra-QC-lookup.csv',\n",
       " '06f537d0-dbb5-417e-b188-749bf5487232': 'MOD13A1-061-500m-16-days-VI-Quality-Statistics-QA.csv',\n",
       " '610ff7da-b4f4-41e8-8a12-380d2938ee25': 'MOD15A2H-061-FparLai-QC-Statistics-QA.csv',\n",
       " '65a31f7a-84b1-41e9-b2ac-4c6fa7442783': 'MOD15A2H-061-FparExtra-QC-Statistics-QA.csv',\n",
       " '05fd7f2b-7a6b-4b31-94c2-e79073ebd54c': 'DAYMET-004-Statistics.csv',\n",
       " '25cf4250-4ab9-42bf-8316-0d3db847c7a8': 'MOD13A1-061-Statistics.csv',\n",
       " 'ff7d0e71-5977-4ead-8ab3-f71ecaa8e379': 'MOD15A2H-061-Statistics.csv',\n",
       " '0dfd1862-107e-4c8a-b4e7-24ec70f5acb2': 'Test-granule-list.txt',\n",
       " '7f4acaec-e2c7-4c4a-8d8b-baaf305d72d1': 'Test-request.json',\n",
       " '45e3a501-59c4-4326-b052-b58d5702df02': 'Test-DAYMET-004-metadata.xml',\n",
       " '4e372310-d885-439d-b79f-7b93e2effd71': 'Test-MOD13A1-061-metadata.xml',\n",
       " 'c5793e74-10ef-41d7-b3fb-c42f3b442be9': 'Test-MOD15A2H-061-metadata.xml',\n",
       " '24ce9881-bf67-48e9-9049-fd6be4c234af': 'README.md'}"
      ]
     },
     "execution_count": 91,
     "metadata": {},
     "output_type": "execute_result"
    }
   ],
   "source": [
    "files = {}                                                       # Create empty dictionary\n",
    "for f in bundle['files']: files[f['file_id']] = f['file_name']   # Fill dictionary with file_id as keys and file_name as values\n",
    "files    "
   ]
  },
  {
   "cell_type": "code",
   "execution_count": 92,
   "metadata": {},
   "outputs": [],
   "source": [
    "destDir = \"../data-sample\""
   ]
  },
  {
   "cell_type": "code",
   "execution_count": 61,
   "metadata": {},
   "outputs": [
    {
     "data": {
      "text/plain": [
       "True"
      ]
     },
     "execution_count": 61,
     "metadata": {},
     "output_type": "execute_result"
    }
   ],
   "source": [
    "os.path.exists(\"../data/MOD15A2H.061_Lai_500m_doy2017185_aid0001.tif\")"
   ]
  },
  {
   "cell_type": "code",
   "execution_count": 93,
   "metadata": {},
   "outputs": [
    {
     "name": "stdout",
     "output_type": "stream",
     "text": [
      "Downloaded files can be found at: ../data-sample\n"
     ]
    }
   ],
   "source": [
    "for f in files:\n",
    "    dl = r.get('{}bundle/{}/{}'.format(api, task_id, f), headers=head, stream=True, allow_redirects = 'True')                                # Get a stream to the bundle file\n",
    "    if files[f].endswith('.tif'):\n",
    "        filename = files[f].split('/')[1]\n",
    "    else:\n",
    "        filename = files[f] \n",
    "    filepath = os.path.join(destDir, filename)                                                       # Create output file path\n",
    "    with open(filepath, 'wb') as f:                                                                  # Write file to dest dir\n",
    "        for data in dl.iter_content(chunk_size=8192): f.write(data) \n",
    "print('Downloaded files can be found at: {}'.format(destDir))"
   ]
  },
  {
   "cell_type": "code",
   "execution_count": 45,
   "metadata": {},
   "outputs": [
    {
     "data": {
      "text/plain": [
       "['DAYMET.004_2017182_to_2017212/DAYMET.004_prcp_doy2017182_aid0001.tif',\n",
       " 'DAYMET.004_2017182_to_2017212/DAYMET.004_prcp_doy2017183_aid0001.tif',\n",
       " 'DAYMET.004_2017182_to_2017212/DAYMET.004_prcp_doy2017184_aid0001.tif',\n",
       " 'DAYMET.004_2017182_to_2017212/DAYMET.004_prcp_doy2017185_aid0001.tif',\n",
       " 'DAYMET.004_2017182_to_2017212/DAYMET.004_prcp_doy2017186_aid0001.tif',\n",
       " 'DAYMET.004_2017182_to_2017212/DAYMET.004_prcp_doy2017187_aid0001.tif',\n",
       " 'DAYMET.004_2017182_to_2017212/DAYMET.004_prcp_doy2017188_aid0001.tif',\n",
       " 'DAYMET.004_2017182_to_2017212/DAYMET.004_prcp_doy2017189_aid0001.tif',\n",
       " 'DAYMET.004_2017182_to_2017212/DAYMET.004_prcp_doy2017190_aid0001.tif',\n",
       " 'DAYMET.004_2017182_to_2017212/DAYMET.004_prcp_doy2017191_aid0001.tif',\n",
       " 'DAYMET.004_2017182_to_2017212/DAYMET.004_prcp_doy2017192_aid0001.tif',\n",
       " 'DAYMET.004_2017182_to_2017212/DAYMET.004_prcp_doy2017193_aid0001.tif',\n",
       " 'DAYMET.004_2017182_to_2017212/DAYMET.004_prcp_doy2017194_aid0001.tif',\n",
       " 'DAYMET.004_2017182_to_2017212/DAYMET.004_prcp_doy2017195_aid0001.tif',\n",
       " 'DAYMET.004_2017182_to_2017212/DAYMET.004_prcp_doy2017196_aid0001.tif',\n",
       " 'DAYMET.004_2017182_to_2017212/DAYMET.004_prcp_doy2017197_aid0001.tif',\n",
       " 'DAYMET.004_2017182_to_2017212/DAYMET.004_prcp_doy2017198_aid0001.tif',\n",
       " 'DAYMET.004_2017182_to_2017212/DAYMET.004_prcp_doy2017199_aid0001.tif',\n",
       " 'DAYMET.004_2017182_to_2017212/DAYMET.004_prcp_doy2017200_aid0001.tif',\n",
       " 'DAYMET.004_2017182_to_2017212/DAYMET.004_prcp_doy2017201_aid0001.tif',\n",
       " 'DAYMET.004_2017182_to_2017212/DAYMET.004_prcp_doy2017202_aid0001.tif',\n",
       " 'DAYMET.004_2017182_to_2017212/DAYMET.004_prcp_doy2017203_aid0001.tif',\n",
       " 'DAYMET.004_2017182_to_2017212/DAYMET.004_prcp_doy2017204_aid0001.tif',\n",
       " 'DAYMET.004_2017182_to_2017212/DAYMET.004_prcp_doy2017205_aid0001.tif',\n",
       " 'DAYMET.004_2017182_to_2017212/DAYMET.004_prcp_doy2017206_aid0001.tif',\n",
       " 'DAYMET.004_2017182_to_2017212/DAYMET.004_prcp_doy2017207_aid0001.tif',\n",
       " 'DAYMET.004_2017182_to_2017212/DAYMET.004_prcp_doy2017208_aid0001.tif',\n",
       " 'DAYMET.004_2017182_to_2017212/DAYMET.004_prcp_doy2017209_aid0001.tif',\n",
       " 'DAYMET.004_2017182_to_2017212/DAYMET.004_prcp_doy2017210_aid0001.tif',\n",
       " 'DAYMET.004_2017182_to_2017212/DAYMET.004_prcp_doy2017211_aid0001.tif',\n",
       " 'DAYMET.004_2017182_to_2017212/DAYMET.004_prcp_doy2017212_aid0001.tif',\n",
       " 'DAYMET.004_2017182_to_2017212/DAYMET.004_tmax_doy2017182_aid0001.tif',\n",
       " 'DAYMET.004_2017182_to_2017212/DAYMET.004_tmax_doy2017183_aid0001.tif',\n",
       " 'DAYMET.004_2017182_to_2017212/DAYMET.004_tmax_doy2017184_aid0001.tif',\n",
       " 'DAYMET.004_2017182_to_2017212/DAYMET.004_tmax_doy2017185_aid0001.tif',\n",
       " 'DAYMET.004_2017182_to_2017212/DAYMET.004_tmax_doy2017186_aid0001.tif',\n",
       " 'DAYMET.004_2017182_to_2017212/DAYMET.004_tmax_doy2017187_aid0001.tif',\n",
       " 'DAYMET.004_2017182_to_2017212/DAYMET.004_tmax_doy2017188_aid0001.tif',\n",
       " 'DAYMET.004_2017182_to_2017212/DAYMET.004_tmax_doy2017189_aid0001.tif',\n",
       " 'DAYMET.004_2017182_to_2017212/DAYMET.004_tmax_doy2017190_aid0001.tif',\n",
       " 'DAYMET.004_2017182_to_2017212/DAYMET.004_tmax_doy2017191_aid0001.tif',\n",
       " 'DAYMET.004_2017182_to_2017212/DAYMET.004_tmax_doy2017192_aid0001.tif',\n",
       " 'DAYMET.004_2017182_to_2017212/DAYMET.004_tmax_doy2017193_aid0001.tif',\n",
       " 'DAYMET.004_2017182_to_2017212/DAYMET.004_tmax_doy2017194_aid0001.tif',\n",
       " 'DAYMET.004_2017182_to_2017212/DAYMET.004_tmax_doy2017195_aid0001.tif',\n",
       " 'DAYMET.004_2017182_to_2017212/DAYMET.004_tmax_doy2017196_aid0001.tif',\n",
       " 'DAYMET.004_2017182_to_2017212/DAYMET.004_tmax_doy2017197_aid0001.tif',\n",
       " 'DAYMET.004_2017182_to_2017212/DAYMET.004_tmax_doy2017198_aid0001.tif',\n",
       " 'DAYMET.004_2017182_to_2017212/DAYMET.004_tmax_doy2017199_aid0001.tif',\n",
       " 'DAYMET.004_2017182_to_2017212/DAYMET.004_tmax_doy2017200_aid0001.tif',\n",
       " 'DAYMET.004_2017182_to_2017212/DAYMET.004_tmax_doy2017201_aid0001.tif',\n",
       " 'DAYMET.004_2017182_to_2017212/DAYMET.004_tmax_doy2017202_aid0001.tif',\n",
       " 'DAYMET.004_2017182_to_2017212/DAYMET.004_tmax_doy2017203_aid0001.tif',\n",
       " 'DAYMET.004_2017182_to_2017212/DAYMET.004_tmax_doy2017204_aid0001.tif',\n",
       " 'DAYMET.004_2017182_to_2017212/DAYMET.004_tmax_doy2017205_aid0001.tif',\n",
       " 'DAYMET.004_2017182_to_2017212/DAYMET.004_tmax_doy2017206_aid0001.tif',\n",
       " 'DAYMET.004_2017182_to_2017212/DAYMET.004_tmax_doy2017207_aid0001.tif',\n",
       " 'DAYMET.004_2017182_to_2017212/DAYMET.004_tmax_doy2017208_aid0001.tif',\n",
       " 'DAYMET.004_2017182_to_2017212/DAYMET.004_tmax_doy2017209_aid0001.tif',\n",
       " 'DAYMET.004_2017182_to_2017212/DAYMET.004_tmax_doy2017210_aid0001.tif',\n",
       " 'DAYMET.004_2017182_to_2017212/DAYMET.004_tmax_doy2017211_aid0001.tif',\n",
       " 'DAYMET.004_2017182_to_2017212/DAYMET.004_tmax_doy2017212_aid0001.tif',\n",
       " 'DAYMET.004_2017182_to_2017212/DAYMET.004_tmin_doy2017182_aid0001.tif',\n",
       " 'DAYMET.004_2017182_to_2017212/DAYMET.004_tmin_doy2017183_aid0001.tif',\n",
       " 'DAYMET.004_2017182_to_2017212/DAYMET.004_tmin_doy2017184_aid0001.tif',\n",
       " 'DAYMET.004_2017182_to_2017212/DAYMET.004_tmin_doy2017185_aid0001.tif',\n",
       " 'DAYMET.004_2017182_to_2017212/DAYMET.004_tmin_doy2017186_aid0001.tif',\n",
       " 'DAYMET.004_2017182_to_2017212/DAYMET.004_tmin_doy2017187_aid0001.tif',\n",
       " 'DAYMET.004_2017182_to_2017212/DAYMET.004_tmin_doy2017188_aid0001.tif',\n",
       " 'DAYMET.004_2017182_to_2017212/DAYMET.004_tmin_doy2017189_aid0001.tif',\n",
       " 'DAYMET.004_2017182_to_2017212/DAYMET.004_tmin_doy2017190_aid0001.tif',\n",
       " 'DAYMET.004_2017182_to_2017212/DAYMET.004_tmin_doy2017191_aid0001.tif',\n",
       " 'DAYMET.004_2017182_to_2017212/DAYMET.004_tmin_doy2017192_aid0001.tif',\n",
       " 'DAYMET.004_2017182_to_2017212/DAYMET.004_tmin_doy2017193_aid0001.tif',\n",
       " 'DAYMET.004_2017182_to_2017212/DAYMET.004_tmin_doy2017194_aid0001.tif',\n",
       " 'DAYMET.004_2017182_to_2017212/DAYMET.004_tmin_doy2017195_aid0001.tif',\n",
       " 'DAYMET.004_2017182_to_2017212/DAYMET.004_tmin_doy2017196_aid0001.tif',\n",
       " 'DAYMET.004_2017182_to_2017212/DAYMET.004_tmin_doy2017197_aid0001.tif',\n",
       " 'DAYMET.004_2017182_to_2017212/DAYMET.004_tmin_doy2017198_aid0001.tif',\n",
       " 'DAYMET.004_2017182_to_2017212/DAYMET.004_tmin_doy2017199_aid0001.tif',\n",
       " 'DAYMET.004_2017182_to_2017212/DAYMET.004_tmin_doy2017200_aid0001.tif',\n",
       " 'DAYMET.004_2017182_to_2017212/DAYMET.004_tmin_doy2017201_aid0001.tif',\n",
       " 'DAYMET.004_2017182_to_2017212/DAYMET.004_tmin_doy2017202_aid0001.tif',\n",
       " 'DAYMET.004_2017182_to_2017212/DAYMET.004_tmin_doy2017203_aid0001.tif',\n",
       " 'DAYMET.004_2017182_to_2017212/DAYMET.004_tmin_doy2017204_aid0001.tif',\n",
       " 'DAYMET.004_2017182_to_2017212/DAYMET.004_tmin_doy2017205_aid0001.tif',\n",
       " 'DAYMET.004_2017182_to_2017212/DAYMET.004_tmin_doy2017206_aid0001.tif',\n",
       " 'DAYMET.004_2017182_to_2017212/DAYMET.004_tmin_doy2017207_aid0001.tif',\n",
       " 'DAYMET.004_2017182_to_2017212/DAYMET.004_tmin_doy2017208_aid0001.tif',\n",
       " 'DAYMET.004_2017182_to_2017212/DAYMET.004_tmin_doy2017209_aid0001.tif',\n",
       " 'DAYMET.004_2017182_to_2017212/DAYMET.004_tmin_doy2017210_aid0001.tif',\n",
       " 'DAYMET.004_2017182_to_2017212/DAYMET.004_tmin_doy2017211_aid0001.tif',\n",
       " 'DAYMET.004_2017182_to_2017212/DAYMET.004_tmin_doy2017212_aid0001.tif',\n",
       " 'MOD13A1.061_2017167_to_2017212/MOD13A1.061__500m_16_days_EVI_doy2017177_aid0001.tif',\n",
       " 'MOD13A1.061_2017167_to_2017212/MOD13A1.061__500m_16_days_EVI_doy2017193_aid0001.tif',\n",
       " 'MOD13A1.061_2017167_to_2017212/MOD13A1.061__500m_16_days_EVI_doy2017209_aid0001.tif',\n",
       " 'MOD13A1.061_2017167_to_2017212/MOD13A1.061__500m_16_days_NDVI_doy2017177_aid0001.tif',\n",
       " 'MOD13A1.061_2017167_to_2017212/MOD13A1.061__500m_16_days_NDVI_doy2017193_aid0001.tif',\n",
       " 'MOD13A1.061_2017167_to_2017212/MOD13A1.061__500m_16_days_NDVI_doy2017209_aid0001.tif',\n",
       " 'MOD13A1.061_2017167_to_2017212/MOD13A1.061__500m_16_days_VI_Quality_doy2017177_aid0001.tif',\n",
       " 'MOD13A1.061_2017167_to_2017212/MOD13A1.061__500m_16_days_VI_Quality_doy2017193_aid0001.tif',\n",
       " 'MOD13A1.061_2017167_to_2017212/MOD13A1.061__500m_16_days_VI_Quality_doy2017209_aid0001.tif',\n",
       " 'MOD15A2H.061_2017175_to_2017212/MOD15A2H.061_Lai_500m_doy2017177_aid0001.tif',\n",
       " 'MOD15A2H.061_2017175_to_2017212/MOD15A2H.061_Lai_500m_doy2017185_aid0001.tif',\n",
       " 'MOD15A2H.061_2017175_to_2017212/MOD15A2H.061_Lai_500m_doy2017193_aid0001.tif',\n",
       " 'MOD15A2H.061_2017175_to_2017212/MOD15A2H.061_Lai_500m_doy2017201_aid0001.tif',\n",
       " 'MOD15A2H.061_2017175_to_2017212/MOD15A2H.061_Lai_500m_doy2017209_aid0001.tif',\n",
       " 'MOD15A2H.061_2017175_to_2017212/MOD15A2H.061_FparLai_QC_doy2017177_aid0001.tif',\n",
       " 'MOD15A2H.061_2017175_to_2017212/MOD15A2H.061_FparLai_QC_doy2017185_aid0001.tif',\n",
       " 'MOD15A2H.061_2017175_to_2017212/MOD15A2H.061_FparLai_QC_doy2017193_aid0001.tif',\n",
       " 'MOD15A2H.061_2017175_to_2017212/MOD15A2H.061_FparLai_QC_doy2017201_aid0001.tif',\n",
       " 'MOD15A2H.061_2017175_to_2017212/MOD15A2H.061_FparLai_QC_doy2017209_aid0001.tif',\n",
       " 'MOD15A2H.061_2017175_to_2017212/MOD15A2H.061_FparExtra_QC_doy2017177_aid0001.tif',\n",
       " 'MOD15A2H.061_2017175_to_2017212/MOD15A2H.061_FparExtra_QC_doy2017185_aid0001.tif',\n",
       " 'MOD15A2H.061_2017175_to_2017212/MOD15A2H.061_FparExtra_QC_doy2017193_aid0001.tif',\n",
       " 'MOD15A2H.061_2017175_to_2017212/MOD15A2H.061_FparExtra_QC_doy2017201_aid0001.tif',\n",
       " 'MOD15A2H.061_2017175_to_2017212/MOD15A2H.061_FparExtra_QC_doy2017209_aid0001.tif',\n",
       " 'MOD13A1-061-500m-16-days-VI-Quality-lookup.csv',\n",
       " 'MOD15A2H-061-FparLai-QC-lookup.csv',\n",
       " 'MOD15A2H-061-FparExtra-QC-lookup.csv',\n",
       " 'MOD13A1-061-500m-16-days-VI-Quality-Statistics-QA.csv',\n",
       " 'MOD15A2H-061-FparLai-QC-Statistics-QA.csv',\n",
       " 'MOD15A2H-061-FparExtra-QC-Statistics-QA.csv',\n",
       " 'DAYMET-004-Statistics.csv',\n",
       " 'MOD13A1-061-Statistics.csv',\n",
       " 'MOD15A2H-061-Statistics.csv',\n",
       " 'Test-granule-list.txt',\n",
       " 'Test-request.json',\n",
       " 'Test-DAYMET-004-metadata.xml',\n",
       " 'Test-MOD13A1-061-metadata.xml',\n",
       " 'Test-MOD15A2H-061-metadata.xml',\n",
       " 'README.md']"
      ]
     },
     "execution_count": 45,
     "metadata": {},
     "output_type": "execute_result"
    }
   ],
   "source": [
    "import matplotlib.pyplot as plt\n",
    "import numpy as np\n",
    "from osgeo import gdal\n",
    "list(files.values())  # List files downloaded"
   ]
  },
  {
   "cell_type": "code",
   "execution_count": 95,
   "metadata": {},
   "outputs": [],
   "source": [
    "dem = gdal.Open(\"../data-sample/MOD13A1.061__500m_16_days_NDVI_doy2017177_aid0001.tif\") # Read file in\n",
    "demBand = dem.GetRasterBand(1)                                          # Read the band (layer)\n",
    "demData = demBand.ReadAsArray().astype('float')                         # Import band as an array with type float\n",
    "demFill = demBand.GetNoDataValue()            # Returns fill value\n",
    "demData[demData == demFill] = np.nan          # Set fill value to nan"
   ]
  },
  {
   "cell_type": "code",
   "execution_count": 96,
   "metadata": {},
   "outputs": [
    {
     "data": {
      "text/plain": [
       "<matplotlib.colorbar.Colorbar at 0x1dd1bcd6020>"
      ]
     },
     "execution_count": 96,
     "metadata": {},
     "output_type": "execute_result"
    },
    {
     "data": {
      "image/png": "[encoded data removed]",
      "text/plain": [
       "<Figure size 640x480 with 2 Axes>"
      ]
     },
     "metadata": {},
     "output_type": "display_data"
    }
   ],
   "source": [
    "plt.imshow(demData);  # Visualize a basic plot of the DEM data\n",
    "plt.colorbar()\n"
   ]
  },
  {
   "cell_type": "markdown",
   "metadata": {},
   "source": [
    "##### Optional Normalization"
   ]
  },
  {
   "cell_type": "code",
   "execution_count": 70,
   "metadata": {},
   "outputs": [],
   "source": [
    "from sklearn.preprocessing import normalize"
   ]
  },
  {
   "cell_type": "code",
   "execution_count": 78,
   "metadata": {},
   "outputs": [],
   "source": [
    "normed_matrix = (demData-np.min(demData))/(np.max(demData)-np.min(demData))"
   ]
  }
 ],
 "metadata": {
  "kernelspec": {
   "display_name": "Python 3",
   "language": "python",
   "name": "python3"
  },
  "language_info": {
   "codemirror_mode": {
    "name": "ipython",
    "version": 3
   },
   "file_extension": ".py",
   "mimetype": "text/x-python",
   "name": "python",
   "nbconvert_exporter": "python",
   "pygments_lexer": "ipython3",
   "version": "3.10.5"
  }
 },
 "nbformat": 4,
 "nbformat_minor": 2
}
