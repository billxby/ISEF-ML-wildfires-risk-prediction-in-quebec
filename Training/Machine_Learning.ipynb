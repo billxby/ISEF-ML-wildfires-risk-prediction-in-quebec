{
 "cells": [
  {
   "cell_type": "code",
   "execution_count": 2,
   "metadata": {},
   "outputs": [],
   "source": [
    "from sklearn.linear_model import LogisticRegression\n",
    "from sklearn.ensemble import RandomForestRegressor\n",
    "from scipy import sparse\n",
    "from sys import getsizeof\n",
    "import numpy as np\n",
    "import os\n",
    "import datetime as dt\n",
    "import meteomatics.api as metapi\n",
    "import json\n",
    "\n",
    "\n",
    "directory = r\"D:\\Users\\xubil\\OneDrive\\Documents\\Wildfires Data NPZ\"\n",
    "data = {}\n",
    "processed = {}\n",
    "coords = json.load(open('Extract/coords.json'))\n",
    "\n",
    "# Get xgboost model"
   ]
  },
  {
   "cell_type": "code",
   "execution_count": 3,
   "metadata": {},
   "outputs": [
    {
     "ename": "",
     "evalue": "",
     "output_type": "error",
     "traceback": [
      "\u001b[1;31mThe Kernel crashed while executing code in the the current cell or a previous cell. Please review the code in the cell(s) to identify a possible cause of the failure. Click <a href='https://aka.ms/vscodeJupyterKernelCrash'>here</a> for more info. View Jupyter <a href='command:jupyter.viewOutput'>log</a> for further details."
     ]
    }
   ],
   "source": [
    "base_human = np.load(\"Training/No Weather/Humaine.npy\", allow_pickle=True)\n",
    "base_thunder = np.load(\"Training/No Weather/Foudre.npy\", allow_pickle=True)"
   ]
  },
  {
   "cell_type": "code",
   "execution_count": null,
   "metadata": {},
   "outputs": [],
   "source": []
  }
 ],
 "metadata": {
  "kernelspec": {
   "display_name": "Python 3",
   "language": "python",
   "name": "python3"
  },
  "language_info": {
   "codemirror_mode": {
    "name": "ipython",
    "version": 3
   },
   "file_extension": ".py",
   "mimetype": "text/x-python",
   "name": "python",
   "nbconvert_exporter": "python",
   "pygments_lexer": "ipython3",
   "version": "3.10.5"
  }
 },
 "nbformat": 4,
 "nbformat_minor": 2
}
